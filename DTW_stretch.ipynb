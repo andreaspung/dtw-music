{
 "cells": [
  {
   "cell_type": "markdown",
   "id": "corresponding-feedback",
   "metadata": {},
   "source": [
    "# File for applying time warping to .wav files"
   ]
  },
  {
   "cell_type": "code",
   "execution_count": null,
   "id": "hidden-customs",
   "metadata": {},
   "outputs": [],
   "source": [
    "from __future__ import print_function\n",
    "import numpy as np\n",
    "import matplotlib\n",
    "import matplotlib.pyplot as plt\n",
    "from os import listdir\n",
    "from os.path import isfile, join\n",
    "\n",
    "import librosa\n",
    "import librosa.display"
   ]
  },
  {
   "cell_type": "code",
   "execution_count": null,
   "id": "choice-livestock",
   "metadata": {},
   "outputs": [],
   "source": [
    "#NB! Set your audio folder here before using this file\n",
    "AUDIO_FOLDER = \"audio files\"\n",
    "audio_files = [join(AUDIO_FOLDER, f) for f in listdir(AUDIO_FOLDER) if isfile(join(AUDIO_FOLDER,\n",
    "                                                                                   f))]\n",
    "print(audio_files)"
   ]
  },
  {
   "cell_type": "code",
   "execution_count": null,
   "id": "attended-winning",
   "metadata": {
    "scrolled": true
   },
   "outputs": [],
   "source": [
    "#Sanity check, can be skipped\n",
    "\n",
    "#MP3 does not work!\n",
    "#https://github.com/librosa/librosa/issues/945\n",
    "\n",
    "#x_1, fs = librosa.load('./audio/short files/clavichord.WAV')\n",
    "for file_name in audio_files:\n",
    "    print(file_name)\n",
    "    x_1, fs = librosa.load(file_name)\n",
    "    #print(\"The time series for this file is\", x_1[:10])\n",
    "    print(\"The length of the time series is\", len(x_1))\n",
    "    print(\"The sampling rate of the file is\", fs)\n",
    "    print()"
   ]
  },
  {
   "cell_type": "code",
   "execution_count": null,
   "id": "novel-preview",
   "metadata": {},
   "outputs": [],
   "source": [
    "\n",
    "x = audio_files[0]\n",
    "x_1, fs = librosa.load(x)"
   ]
  },
  {
   "cell_type": "code",
   "execution_count": null,
   "id": "pointed-clause",
   "metadata": {},
   "outputs": [],
   "source": [
    "#How to save files\n",
    "\n",
    "import soundfile\n",
    "soundfile.write(\"test.wav\", x_1, fs)"
   ]
  },
  {
   "cell_type": "markdown",
   "id": "regular-reading",
   "metadata": {},
   "source": [
    "# DTW to stretch music"
   ]
  },
  {
   "cell_type": "code",
   "execution_count": null,
   "id": "opening-measure",
   "metadata": {},
   "outputs": [],
   "source": [
    "\n",
    "#NB! Change these two as you desire\n",
    "f1 = audio_files[3] #File you want as your baseline\n",
    "f2 = audio_files[-2] #File you want to warp\n",
    "\n",
    "x_1, fs = librosa.load(f1)\n",
    "x_2, fs = librosa.load(f2)"
   ]
  },
  {
   "cell_type": "code",
   "execution_count": null,
   "id": "peaceful-luther",
   "metadata": {},
   "outputs": [],
   "source": [
    "#Experiment with this as you wish. This is the hop-length for chromagrams. \n",
    "#Really short ones result in very high memory usage.\n",
    "hl = 25"
   ]
  },
  {
   "cell_type": "code",
   "execution_count": null,
   "id": "pretty-explorer",
   "metadata": {},
   "outputs": [],
   "source": [
    "x_1_chroma = librosa.feature.chroma_stft(y=x_1, sr=fs, tuning=0, norm=2, hop_length = hl)\n",
    "x_2_chroma = librosa.feature.chroma_stft(y=x_2, sr=fs, tuning=0, norm=2, hop_length = hl)"
   ]
  },
  {
   "cell_type": "code",
   "execution_count": null,
   "id": "virtual-arkansas",
   "metadata": {},
   "outputs": [],
   "source": [
    "x_1.shape"
   ]
  },
  {
   "cell_type": "code",
   "execution_count": null,
   "id": "collect-beaver",
   "metadata": {},
   "outputs": [],
   "source": [
    "\n",
    "#time warping\n",
    "D, wp = librosa.sequence.dtw(X=x_1_chroma, Y=x_2_chroma, metric='cosine')\n"
   ]
  },
  {
   "cell_type": "code",
   "execution_count": null,
   "id": "frozen-mineral",
   "metadata": {},
   "outputs": [],
   "source": [
    "#Getting the matching indices (multiplied by hl to get back to original scale of our series)\n",
    "\n",
    "s1 = np.array(list(reversed([x[0] for x in wp])))*hl\n",
    "s2 = np.array(list(reversed([x[1] for x in wp])))*hl"
   ]
  },
  {
   "cell_type": "code",
   "execution_count": null,
   "id": "ethical-proceeding",
   "metadata": {},
   "outputs": [],
   "source": [
    "x_2_n = [x_2[0]]"
   ]
  },
  {
   "cell_type": "code",
   "execution_count": null,
   "id": "respiratory-effects",
   "metadata": {},
   "outputs": [],
   "source": [
    "#Stretching to make x_2 the same length as x_1 by aligning the different parts\n",
    "\n",
    "for i in range(len(s1)-1):\n",
    "    \n",
    "    r1 = (s1[i+1]-s1[i])\n",
    "    \n",
    "    #If multiple parts of x_2 match to single point in x_2, we remove that part of the song\n",
    "    if r1 == 0:\n",
    "        continue\n",
    "    r2 = (s2[i+1]-s2[i])\n",
    "    \n",
    "    #If multiple parts of x_1 match to a single point in x_2, we just continue that\n",
    "    if r2 == 0:\n",
    "        x_2_n.extend([x_2_n[-1] for i in range(r1)])\n",
    "        continue\n",
    "        \n",
    "    r = r1/r2\n",
    "\n",
    "    old = x_2[s2[i]+1:s2[i+1]+1]\n",
    "    new = librosa.effects.time_stretch(old, r)\n",
    "    \n",
    "    #print(len(old), len(new), r)\n",
    "    x_2_n.extend(new)\n",
    "    \n",
    "    "
   ]
  },
  {
   "cell_type": "code",
   "execution_count": null,
   "id": "assured-participation",
   "metadata": {},
   "outputs": [],
   "source": [
    "soundfile.write(\"warped.wav\", x_2_n, fs)"
   ]
  }
 ],
 "metadata": {
  "kernelspec": {
   "display_name": "Python 3",
   "language": "python",
   "name": "python3"
  },
  "language_info": {
   "codemirror_mode": {
    "name": "ipython",
    "version": 3
   },
   "file_extension": ".py",
   "mimetype": "text/x-python",
   "name": "python",
   "nbconvert_exporter": "python",
   "pygments_lexer": "ipython3",
   "version": "3.8.5"
  }
 },
 "nbformat": 4,
 "nbformat_minor": 5
}
